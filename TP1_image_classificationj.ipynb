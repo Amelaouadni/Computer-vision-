{
  "nbformat": 4,
  "nbformat_minor": 0,
  "metadata": {
    "colab": {
      "name": "TP1_image_classificationj.ipynb",
      "provenance": [],
      "authorship_tag": "ABX9TyNAMgjmEhndJGPgwbr5NB/r",
      "include_colab_link": true
    },
    "kernelspec": {
      "name": "python3",
      "display_name": "Python 3"
    }
  },
  "cells": [
    {
      "cell_type": "markdown",
      "metadata": {
        "id": "view-in-github",
        "colab_type": "text"
      },
      "source": [
        "<a href=\"https://colab.research.google.com/github/Amelaouadni/Computer-vision-/blob/master/TP1_image_classificationj.ipynb\" target=\"_parent\"><img src=\"https://colab.research.google.com/assets/colab-badge.svg\" alt=\"Open In Colab\"/></a>"
      ]
    },
    {
      "cell_type": "code",
      "metadata": {
        "id": "uZolQdmWZ1SI",
        "colab_type": "code",
        "colab": {}
      },
      "source": [
        "%tensorflow_version 2.x\n",
        "import tensorflow as tf\n",
        "import numpy as np\n",
        "import matplotlib.pyplot as plt\n"
      ],
      "execution_count": 0,
      "outputs": []
    },
    {
      "cell_type": "code",
      "metadata": {
        "id": "71sGPNVKba3u",
        "colab_type": "code",
        "colab": {}
      },
      "source": [
        "(train_image, train_labels), (test_image, test_labels) = tf.keras.datasets.cifar10.load_data()"
      ],
      "execution_count": 0,
      "outputs": []
    },
    {
      "cell_type": "code",
      "metadata": {
        "id": "WQ7kpt4ubx-7",
        "colab_type": "code",
        "outputId": "ba3272f4-31ab-41c7-b313-7e04c5932f1a",
        "colab": {
          "base_uri": "https://localhost:8080/",
          "height": 34
        }
      },
      "source": [
        "train_image.shape, train_labels.shape, test_image.shape, test_labels.shape"
      ],
      "execution_count": 0,
      "outputs": [
        {
          "output_type": "execute_result",
          "data": {
            "text/plain": [
              "((50000, 32, 32, 3), (50000, 1), (10000, 32, 32, 3), (10000, 1))"
            ]
          },
          "metadata": {
            "tags": []
          },
          "execution_count": 36
        }
      ]
    },
    {
      "cell_type": "code",
      "metadata": {
        "id": "9E8nPx64b2QW",
        "colab_type": "code",
        "colab": {}
      },
      "source": [
        "train_labels_encoded = tf.keras.utils.to_categorical(train_labels)\n",
        "test_labels_encoded = tf.keras.utils.to_categorical(test_labels)"
      ],
      "execution_count": 0,
      "outputs": []
    },
    {
      "cell_type": "code",
      "metadata": {
        "id": "SzMxywGqcgBC",
        "colab_type": "code",
        "outputId": "f2d324af-3f82-4b0d-ed81-3b42a824e10b",
        "colab": {
          "base_uri": "https://localhost:8080/",
          "height": 34
        }
      },
      "source": [
        "train_labels_encoded[0]"
      ],
      "execution_count": 0,
      "outputs": [
        {
          "output_type": "execute_result",
          "data": {
            "text/plain": [
              "array([0., 0., 0., 0., 0., 0., 1., 0., 0., 0.], dtype=float32)"
            ]
          },
          "metadata": {
            "tags": []
          },
          "execution_count": 38
        }
      ]
    },
    {
      "cell_type": "code",
      "metadata": {
        "id": "Uh4wTlmRfItC",
        "colab_type": "code",
        "outputId": "4a92de08-e49c-4248-ec38-f33a39aba551",
        "colab": {
          "base_uri": "https://localhost:8080/",
          "height": 465
        }
      },
      "source": [
        " fig = plt.figure(figsize=(8,8))\n",
        " ax = fig.add_subplot(1, 1, 1)\n",
        " ax.imshow(train_image[0])\n",
        " ax.set_axis_off()\n",
        " plt.show()"
      ],
      "execution_count": 0,
      "outputs": [
        {
          "output_type": "display_data",
          "data": {
            "image/png": "[encoded data removed]",
            "text/plain": [
              "<Figure size 576x576 with 1 Axes>"
            ]
          },
          "metadata": {
            "tags": []
          }
        }
      ]
    },
    {
      "cell_type": "code",
      "metadata": {
        "id": "OddSiMXzhXCS",
        "colab_type": "code",
        "colab": {}
      },
      "source": [
        "input_shape=train_image[0].shape\n",
        "base_model = tf.keras.Sequential()\n",
        "base_model.add(tf.keras.layers.Flatten(input_shape=input_shape))\n",
        "base_model.add(tf.keras.layers.Dense(64, activation='relu'))\n",
        "base_model.add(tf.keras.layers.Dense(10, activation='softmax'))\n",
        "\n"
      ],
      "execution_count": 0,
      "outputs": []
    },
    {
      "cell_type": "code",
      "metadata": {
        "id": "uFgFqCv6iURN",
        "colab_type": "code",
        "outputId": "9789a5d0-2771-4188-fbdc-cdc9fe5ac314",
        "colab": {
          "base_uri": "https://localhost:8080/",
          "height": 265
        }
      },
      "source": [
        "base_model.summary()"
      ],
      "execution_count": 0,
      "outputs": [
        {
          "output_type": "stream",
          "text": [
            "Model: \"sequential_9\"\n",
            "_________________________________________________________________\n",
            "Layer (type)                 Output Shape              Param #   \n",
            "=================================================================\n",
            "flatten_5 (Flatten)          (None, 3072)              0         \n",
            "_________________________________________________________________\n",
            "dense_7 (Dense)              (None, 64)                196672    \n",
            "_________________________________________________________________\n",
            "dense_8 (Dense)              (None, 10)                650       \n",
            "=================================================================\n",
            "Total params: 197,322\n",
            "Trainable params: 197,322\n",
            "Non-trainable params: 0\n",
            "_________________________________________________________________\n"
          ],
          "name": "stdout"
        }
      ]
    },
    {
      "cell_type": "code",
      "metadata": {
        "id": "r4fYw7U8vjfL",
        "colab_type": "code",
        "colab": {}
      },
      "source": [
        "def normalize(train_images_, test_images_):\n",
        "  # convert from integers to floats\n",
        "  train_norm = train_images_.astype('float32')\n",
        "  test_norm = test_images_.astype('float32')\n",
        "  # normalize to range 0-1\n",
        "  train_norm = train_norm / 255.0\n",
        "  test_norm = test_norm / 255.0\n",
        "  # return normalized images\n",
        "  return train_norm, test_norm"
      ],
      "execution_count": 0,
      "outputs": []
    },
    {
      "cell_type": "code",
      "metadata": {
        "id": "Ld-KdrIYycbN",
        "colab_type": "code",
        "colab": {}
      },
      "source": [
        "train_images, test_images = normalize(train_image, test_image)"
      ],
      "execution_count": 0,
      "outputs": []
    },
    {
      "cell_type": "code",
      "metadata": {
        "id": "Zs6rgZ9qsxOD",
        "colab_type": "code",
        "colab": {}
      },
      "source": [
        "opt = tf.keras.optimizers.SGD(lr=0.001, momentum=0.9)\n",
        "base_model.compile(optimizer=opt,loss='categorical_crossentropy',metrics=['accuracy'])"
      ],
      "execution_count": 0,
      "outputs": []
    },
    {
      "cell_type": "code",
      "metadata": {
        "id": "X5MNO7ENuWC9",
        "colab_type": "code",
        "outputId": "e15bf061-5cc9-4b19-ed73-c9c533dd3607",
        "colab": {
          "base_uri": "https://localhost:8080/",
          "height": 390
        }
      },
      "source": [
        "history=base_model.fit(train_images, train_labels_encoded, epochs=10, batch_size=64,validation_data=(test_images,test_labels_encoded))"
      ],
      "execution_count": 0,
      "outputs": [
        {
          "output_type": "stream",
          "text": [
            "Train on 50000 samples, validate on 10000 samples\n",
            "Epoch 1/10\n",
            "50000/50000 [==============================] - 4s 85us/sample - loss: 1.9421 - accuracy: 0.3056 - val_loss: 1.8159 - val_accuracy: 0.3614\n",
            "Epoch 2/10\n",
            "50000/50000 [==============================] - 4s 78us/sample - loss: 1.7864 - accuracy: 0.3750 - val_loss: 1.7500 - val_accuracy: 0.3855\n",
            "Epoch 3/10\n",
            "50000/50000 [==============================] - 4s 80us/sample - loss: 1.7244 - accuracy: 0.3983 - val_loss: 1.6974 - val_accuracy: 0.4104\n",
            "Epoch 4/10\n",
            "50000/50000 [==============================] - 4s 78us/sample - loss: 1.6856 - accuracy: 0.4117 - val_loss: 1.6778 - val_accuracy: 0.4125\n",
            "Epoch 5/10\n",
            "50000/50000 [==============================] - 4s 79us/sample - loss: 1.6484 - accuracy: 0.4234 - val_loss: 1.6502 - val_accuracy: 0.4182\n",
            "Epoch 6/10\n",
            "50000/50000 [==============================] - 4s 82us/sample - loss: 1.6194 - accuracy: 0.4348 - val_loss: 1.6461 - val_accuracy: 0.4179\n",
            "Epoch 7/10\n",
            "50000/50000 [==============================] - 4s 79us/sample - loss: 1.5962 - accuracy: 0.4443 - val_loss: 1.5948 - val_accuracy: 0.4456\n",
            "Epoch 8/10\n",
            "50000/50000 [==============================] - 4s 79us/sample - loss: 1.5770 - accuracy: 0.4520 - val_loss: 1.5987 - val_accuracy: 0.4404\n",
            "Epoch 9/10\n",
            "50000/50000 [==============================] - 4s 82us/sample - loss: 1.5574 - accuracy: 0.4559 - val_loss: 1.5943 - val_accuracy: 0.4379\n",
            "Epoch 10/10\n",
            "50000/50000 [==============================] - 4s 79us/sample - loss: 1.5395 - accuracy: 0.4627 - val_loss: 1.5422 - val_accuracy: 0.4614\n"
          ],
          "name": "stdout"
        }
      ]
    },
    {
      "cell_type": "code",
      "metadata": {
        "id": "eRdmj5Fww5pS",
        "colab_type": "code",
        "colab": {}
      },
      "source": [
        ""
      ],
      "execution_count": 0,
      "outputs": []
    }
  ]
}