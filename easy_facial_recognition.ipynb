{
  "nbformat": 4,
  "nbformat_minor": 0,
  "metadata": {
    "colab": {
      "name": "easy_facial_recognition.ipynb",
      "provenance": [],
      "private_outputs": true,
      "authorship_tag": "ABX9TyMSYFNZRf5rk2tuKQi0i3+y",
      "include_colab_link": true
    },
    "kernelspec": {
      "name": "python3",
      "display_name": "Python 3"
    },
    "accelerator": "GPU"
  },
  "cells": [
    {
      "cell_type": "markdown",
      "metadata": {
        "id": "view-in-github",
        "colab_type": "text"
      },
      "source": [
        "<a href=\"https://colab.research.google.com/github/Amelaouadni/Computer-vision-/blob/master/easy_facial_recognition.ipynb\" target=\"_parent\"><img src=\"https://colab.research.google.com/assets/colab-badge.svg\" alt=\"Open In Colab\"/></a>"
      ]
    },
    {
      "cell_type": "code",
      "metadata": {
        "id": "Gd4cfcAdCTRW",
        "colab_type": "code",
        "colab": {}
      },
      "source": [
        "pip install opencv"
      ],
      "execution_count": 0,
      "outputs": []
    },
    {
      "cell_type": "code",
      "metadata": {
        "id": "RvzNKpRRCxJZ",
        "colab_type": "code",
        "colab": {}
      },
      "source": [
        "pip install dlib"
      ],
      "execution_count": 0,
      "outputs": []
    },
    {
      "cell_type": "code",
      "metadata": {
        "id": "bYRCKssfDAmT",
        "colab_type": "code",
        "colab": {}
      },
      "source": [
        "pip install imutils"
      ],
      "execution_count": 0,
      "outputs": []
    },
    {
      "cell_type": "code",
      "metadata": {
        "id": "VHsQixkZDVcr",
        "colab_type": "code",
        "colab": {}
      },
      "source": [
        "pip install pillow"
      ],
      "execution_count": 0,
      "outputs": []
    },
    {
      "cell_type": "code",
      "metadata": {
        "id": "WRgVLY1oKn1v",
        "colab_type": "code",
        "colab": {}
      },
      "source": [
        "pip install Dlib"
      ],
      "execution_count": 0,
      "outputs": []
    },
    {
      "cell_type": "code",
      "metadata": {
        "id": "GPSPtPfhK2Xh",
        "colab_type": "code",
        "colab": {}
      },
      "source": [
        "!pip install face_recognition\n",
        "import dlib\n",
        "import face_recognition"
      ],
      "execution_count": 0,
      "outputs": []
    },
    {
      "cell_type": "code",
      "metadata": {
        "id": "g8EI9-_MOJXV",
        "colab_type": "code",
        "colab": {}
      },
      "source": [
        ""
      ],
      "execution_count": 0,
      "outputs": []
    },
    {
      "cell_type": "code",
      "metadata": {
        "id": "MFjye_LdLKfe",
        "colab_type": "code",
        "colab": {}
      },
      "source": [
        " pip install -v --install-option=\"--no\" --install-option=\"DLIB_USE_CUDA\" dlib"
      ],
      "execution_count": 0,
      "outputs": []
    },
    {
      "cell_type": "code",
      "metadata": {
        "id": "cPQggxUeOKxb",
        "colab_type": "code",
        "colab": {}
      },
      "source": [
        "!apt update\n",
        "!apt install -y cmake\n",
        "!pip install dlib"
      ],
      "execution_count": 0,
      "outputs": []
    },
    {
      "cell_type": "code",
      "metadata": {
        "id": "8iFmGKWOOlgy",
        "colab_type": "code",
        "colab": {}
      },
      "source": [
        "!apt-get -qq install -y libsm6 libxext6 && pip install -q -U opencv-python\n",
        "import cv2"
      ],
      "execution_count": 0,
      "outputs": []
    },
    {
      "cell_type": "code",
      "metadata": {
        "id": "Cgl0eB5RDb16",
        "colab_type": "code",
        "colab": {}
      },
      "source": [
        "import cv2\n",
        "import dlib\n",
        "import PIL.Image\n",
        "import numpy as np\n",
        "from imutils import face_utils\n",
        "import argparse\n",
        "from pathlib import Path\n",
        "import os\n",
        "import ntpath"
      ],
      "execution_count": 0,
      "outputs": []
    },
    {
      "cell_type": "code",
      "metadata": {
        "id": "-IBrIsL7GGNV",
        "colab_type": "code",
        "colab": {}
      },
      "source": [
        "\n",
        "parser = argparse.ArgumentParser(description='Easy Facial Recognition App')\n",
        "parser.add_argument('-i', '--sample_data', type=str, required=True, help='/content/sample_data/amal.jpg')\n",
        "\n",
        "print('[INFO] Starting System...')\n",
        "print('[INFO] Importing sample_data..')\n",
        "pose_predictor_68_point = dlib.shape_predictor(\"/content/sample_data/shape_predictor_68_face_landmarks.dat\")\n",
        "pose_predictor_5_point = dlib.shape_predictor(\"/content/sample_data/shape_predictor_5_face_landmarks.dat\")\n",
        "face_encoder = dlib.face_recognition_model_v1(\"/content/sample_data/dlib_face_recognition_resnet_model_v1.dat\")\n",
        "face_detector = dlib.get_frontal_face_detector()\n",
        "print('[INFO] Importing sample_data..')"
      ],
      "execution_count": 0,
      "outputs": []
    },
    {
      "cell_type": "code",
      "metadata": {
        "id": "EfOytvBxJPn9",
        "colab_type": "code",
        "colab": {}
      },
      "source": [
        "def transform(image, face_locations):\n",
        "    coord_faces = []\n",
        "    for face in face_locations:\n",
        "        rect = face.top(), face.right(), face.bottom(), face.left()\n",
        "        coord_face = max(rect[0], 0), min(rect[1], image.shape[1]), min(rect[2], image.shape[0]), max(rect[3], 0)\n",
        "        coord_faces.append(coord_face)\n",
        "    return coord_faces"
      ],
      "execution_count": 0,
      "outputs": []
    },
    {
      "cell_type": "code",
      "metadata": {
        "id": "AWl7U_8wJTs0",
        "colab_type": "code",
        "colab": {}
      },
      "source": [
        "def encode_face(image):\n",
        "    face_locations = face_detector(image, 1)\n",
        "    face_encodings_list = []\n",
        "    landmarks_list = []\n",
        "    for face_location in face_locations:\n",
        "        # DETECT FACES\n",
        "        shape = pose_predictor_68_point(image, face_location)\n",
        "        face_encodings_list.append(np.array(face_encoder.compute_face_descriptor(image, shape, num_jitters=1)))\n",
        "        # GET LANDMARKS\n",
        "        shape = face_utils.shape_to_np(shape)\n",
        "        landmarks_list.append(shape)\n",
        "    face_locations = transform(image, face_locations)\n",
        "    return face_encodings_list, face_locations, landmarks_list"
      ],
      "execution_count": 0,
      "outputs": []
    },
    {
      "cell_type": "code",
      "metadata": {
        "id": "csfpAfIfY9sk",
        "colab_type": "code",
        "colab": {}
      },
      "source": [
        "easy_facial_recognition.ipynb --i sample_data"
      ],
      "execution_count": 0,
      "outputs": []
    },
    {
      "cell_type": "code",
      "metadata": {
        "id": "1Sl31qQuJ1sk",
        "colab_type": "code",
        "colab": {}
      },
      "source": [
        "\n",
        "\n",
        "def easy_face_reco(frame, known_face_encodings, known_face_names):\n",
        "    rgb_small_frame = frame[:, :, ::-1]\n",
        "    # ENCODING FACE\n",
        "    face_encodings_list, face_locations_list, landmarks_list = encode_face(rgb_small_frame)\n",
        "    face_names = []\n",
        "    for face_encoding in face_encodings_list:\n",
        "        if len(face_encoding) == 0:\n",
        "            return np.empty((0))\n",
        "        # CHECK DISTANCE BETWEEN KNOWN FACES AND FACES DETECTED\n",
        "        vectors = np.linalg.norm(known_face_encodings - face_encoding, axis=1)\n",
        "        tolerance = 0.6\n",
        "        result = []\n",
        "        for vector in vectors:\n",
        "            if vector <= tolerance:\n",
        "                result.append(True)\n",
        "            else:\n",
        "                result.append(False)\n",
        "        if True in result:\n",
        "            first_match_index = result.index(True)\n",
        "            name = known_face_names[first_match_index]\n",
        "        else:\n",
        "            name = \"Unknown\"\n",
        "        face_names.append(name)\n",
        "\n",
        "    for (top, right, bottom, left), name in zip(face_locations_list, face_names):\n",
        "        cv2.rectangle(frame, (left, top), (right, bottom), (0, 255, 0), 2)\n",
        "        cv2.rectangle(frame, (left, bottom - 30), (right, bottom), (0, 255, 0), cv2.FILLED)\n",
        "        cv2.putText(frame, name, (left + 2, bottom - 2), cv2.FONT_HERSHEY_SIMPLEX, 1, (0, 0, 0), 1)\n",
        "\n",
        "    for shape in landmarks_list:\n",
        "        for (x, y) in shape:\n",
        "            cv2.circle(frame, (x, y), 1, (255, 0, 255), -1)\n",
        "\n",
        "\n",
        "\n",
        "\n",
        "   "
      ],
      "execution_count": 0,
      "outputs": []
    },
    {
      "cell_type": "code",
      "metadata": {
        "id": "_XMU6UX1Y4C3",
        "colab_type": "code",
        "colab": {}
      },
      "source": [
        "if __name__ == '__main__':\n",
        "    args = parser.parse_args()\n",
        "\n",
        "    print('[INFO] Importing faces...')\n",
        "    face_to_encode_path = Path(args.input)\n",
        "    files = [file_ for file_ in face_to_encode_path.rglob('*.jpg')]\n",
        "\n",
        "    for file_ in face_to_encode_path.rglob('*.png'):\n",
        "        files.append(file_)\n",
        "    if len(files)==0:\n",
        "        raise ValueError('No faces detect in the directory: {}'.format(face_to_encode_path))\n",
        "    known_face_names = [os.path.splitext(ntpath.basename(file_))[0] for file_ in files]\n",
        "\n",
        "    known_face_encodings = []\n",
        "    for file_ in files:\n",
        "        image = PIL.Image.open(file_)\n",
        "        image = np.array(image)\n",
        "        face_encoded = encode_face(image)[0][0]\n",
        "        known_face_encodings.append(face_encoded)"
      ],
      "execution_count": 0,
      "outputs": []
    },
    {
      "cell_type": "code",
      "metadata": {
        "id": "VdQiwnXTaeKP",
        "colab_type": "code",
        "colab": {}
      },
      "source": [
        " print('[INFO] Faces well imported')\n",
        "    print('[INFO] Starting Webcam...')\n",
        "    video_capture = cv2.VideoCapture(0)\n",
        "    print('[INFO] Webcam well started')\n",
        "    print('[INFO] Detecting...')\n",
        "    while True:\n",
        "        ret, frame = video_capture.read()\n",
        "        easy_face_reco(frame, known_face_encodings, known_face_names)\n",
        "        cv2.imshow('Easy Facial Recognition App', frame)\n",
        "        if cv2.waitKey(1) & 0xFF == ord('q'):\n",
        "            break\n",
        "    print('[INFO] Stopping System')\n",
        "    video_capture.release()\n",
        "    cv2.destroyAllWindows()"
      ],
      "execution_count": 0,
      "outputs": []
    },
    {
      "cell_type": "code",
      "metadata": {
        "id": "6IKsiXLWajJe",
        "colab_type": "code",
        "colab": {}
      },
      "source": [
        ""
      ],
      "execution_count": 0,
      "outputs": []
    }
  ]
}